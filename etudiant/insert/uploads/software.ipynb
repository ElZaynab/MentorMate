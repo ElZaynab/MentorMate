{
 "cells": [
  {
   "cell_type": "markdown",
   "id": "89adb08d",
   "metadata": {},
   "source": [
    "# Importation Data Derby"
   ]
  },
  {
   "cell_type": "code",
   "execution_count": 31,
   "id": "d5dd184d",
   "metadata": {},
   "outputs": [
    {
     "name": "stdout",
     "output_type": "stream",
     "text": [
      "les info génerale de la data : \n",
      "<class 'pandas.core.frame.DataFrame'>\n",
      "RangeIndex: 1000 entries, 0 to 999\n",
      "Data columns (total 34 columns):\n",
      " #   Column                    Non-Null Count  Dtype  \n",
      "---  ------                    --------------  -----  \n",
      " 0   id                        1000 non-null   int64  \n",
      " 1   type                      1000 non-null   object \n",
      " 2   status                    1000 non-null   object \n",
      " 3   resolution                1000 non-null   object \n",
      " 4   component                 989 non-null    object \n",
      " 5   priority                  1000 non-null   object \n",
      " 6   reporter                  1000 non-null   object \n",
      " 7   created                   1000 non-null   object \n",
      " 8   assigned                  971 non-null    object \n",
      " 9   assignee                  1000 non-null   object \n",
      " 10  resolved                  1000 non-null   object \n",
      " 11  fixingTimeFromCreate      1000 non-null   float64\n",
      " 12  fixingTimeFromAssignment  971 non-null    float64\n",
      " 13  summary                   1000 non-null   object \n",
      " 14  description               1000 non-null   object \n",
      " 15  affectVersion             999 non-null    object \n",
      " 16  fixVersion                993 non-null    object \n",
      " 17  votes                     1000 non-null   int64  \n",
      " 18  watches                   1000 non-null   int64  \n",
      " 19  description_words         1000 non-null   int64  \n",
      " 20  assingnee_count           1000 non-null   int64  \n",
      " 21  comment_count             1000 non-null   int64  \n",
      " 22  commentator_count         1000 non-null   int64  \n",
      " 23  Surprising                1000 non-null   int64  \n",
      " 24  Dormant                   1000 non-null   int64  \n",
      " 25  Blocker                   1000 non-null   int64  \n",
      " 26  security                  1000 non-null   int64  \n",
      " 27  Performance               1000 non-null   int64  \n",
      " 28  Breakage                  1000 non-null   int64  \n",
      " 29  commit_count              1000 non-null   int64  \n",
      " 30  file_count                999 non-null    float64\n",
      " 31  files                     991 non-null    object \n",
      " 32  nsec                      999 non-null    float64\n",
      " 33  fsec                      999 non-null    float64\n",
      "dtypes: float64(5), int64(14), object(15)\n",
      "memory usage: 265.8+ KB\n",
      "Nombre de valeurs manquantes:\n",
      "id                           0\n",
      "type                         0\n",
      "status                       0\n",
      "resolution                   0\n",
      "component                   11\n",
      "priority                     0\n",
      "reporter                     0\n",
      "created                      0\n",
      "assigned                    29\n",
      "assignee                     0\n",
      "resolved                     0\n",
      "fixingTimeFromCreate         0\n",
      "fixingTimeFromAssignment    29\n",
      "summary                      0\n",
      "description                  0\n",
      "affectVersion                1\n",
      "fixVersion                   7\n",
      "votes                        0\n",
      "watches                      0\n",
      "description_words            0\n",
      "assingnee_count              0\n",
      "comment_count                0\n",
      "commentator_count            0\n",
      "Surprising                   0\n",
      "Dormant                      0\n",
      "Blocker                      0\n",
      "security                     0\n",
      "Performance                  0\n",
      "Breakage                     0\n",
      "commit_count                 0\n",
      "file_count                   1\n",
      "files                        9\n",
      "nsec                         1\n",
      "fsec                         1\n",
      "dtype: int64\n"
     ]
    }
   ],
   "source": [
    "import pandas as pd\n",
    "import matplotlib.pyplot as plt\n",
    "\n",
    "df = pd.read_csv(\"Derby2.csv\", delimiter=\";\",encoding='ISO-8859-1')\n",
    "print(\"les info génerale de la data : \")\n",
    "df.info()\n",
    "\n",
    "# Compter le nombre de valeurs manquantes par colonne\n",
    "\n",
    "missing_counts = df.isnull().sum()\n",
    "\n",
    "print(\"Nombre de valeurs manquantes:\")\n",
    "print(missing_counts)"
   ]
  },
  {
   "cell_type": "code",
   "execution_count": 15,
   "id": "c3c2b53e",
   "metadata": {},
   "outputs": [
    {
     "data": {
      "image/png": "[encoded data removed]",
      "text/plain": [
       "<Figure size 720x432 with 1 Axes>"
      ]
     },
     "metadata": {
      "needs_background": "light"
     },
     "output_type": "display_data"
    }
   ],
   "source": [
    "missing_counts = df.isnull().sum()\n",
    "\n",
    "# Créer un histogramme pour les valeurs manquantes\n",
    "plt.figure(figsize=(10, 6))\n",
    "missing_counts.plot(kind='bar', color='orange')\n",
    "plt.title('Nombre de valeurs manquantes par colonne')\n",
    "plt.xlabel('Colonnes')\n",
    "plt.ylabel('Nombre de valeurs manquantes')\n",
    "plt.show()"
   ]
  },
  {
   "cell_type": "markdown",
   "id": "b9ac448f",
   "metadata": {},
   "source": [
    "# les noms des colonnes qui ont des valeurs manquantes par ligne"
   ]
  },
  {
   "cell_type": "code",
   "execution_count": 16,
   "id": "608f2bd2",
   "metadata": {},
   "outputs": [
    {
     "name": "stdout",
     "output_type": "stream",
     "text": [
      "Colonnes avec des valeurs manquantes pour chaque ligne:\n",
      "0                                               [files]\n",
      "8                                               [files]\n",
      "11                 [assigned, fixingTimeFromAssignment]\n",
      "12                                              [files]\n",
      "13                 [assigned, fixingTimeFromAssignment]\n",
      "21                 [assigned, fixingTimeFromAssignment]\n",
      "23                 [assigned, fixingTimeFromAssignment]\n",
      "24                 [assigned, fixingTimeFromAssignment]\n",
      "42                 [assigned, fixingTimeFromAssignment]\n",
      "44                                         [nsec, fsec]\n",
      "78                 [assigned, fixingTimeFromAssignment]\n",
      "85                                          [component]\n",
      "86                                              [files]\n",
      "102                [assigned, fixingTimeFromAssignment]\n",
      "120                                         [component]\n",
      "149                                             [files]\n",
      "150                [assigned, fixingTimeFromAssignment]\n",
      "247                [assigned, fixingTimeFromAssignment]\n",
      "253                [assigned, fixingTimeFromAssignment]\n",
      "261                [assigned, fixingTimeFromAssignment]\n",
      "280                                             [files]\n",
      "282                                     [affectVersion]\n",
      "283                                         [component]\n",
      "286                                         [component]\n",
      "312                [assigned, fixingTimeFromAssignment]\n",
      "332                [assigned, fixingTimeFromAssignment]\n",
      "370                                         [component]\n",
      "399                                         [component]\n",
      "426                [assigned, fixingTimeFromAssignment]\n",
      "492                                 [file_count, files]\n",
      "493                                         [component]\n",
      "645                [assigned, fixingTimeFromAssignment]\n",
      "698                                             [files]\n",
      "721                [assigned, fixingTimeFromAssignment]\n",
      "757                [assigned, fixingTimeFromAssignment]\n",
      "782                                         [component]\n",
      "791                                         [component]\n",
      "802                [assigned, fixingTimeFromAssignment]\n",
      "841                                         [component]\n",
      "885                [assigned, fixingTimeFromAssignment]\n",
      "925                                        [fixVersion]\n",
      "934    [assigned, fixingTimeFromAssignment, fixVersion]\n",
      "945                [assigned, fixingTimeFromAssignment]\n",
      "957                [assigned, fixingTimeFromAssignment]\n",
      "960    [assigned, fixingTimeFromAssignment, fixVersion]\n",
      "963                                        [fixVersion]\n",
      "969                                        [fixVersion]\n",
      "970                                         [component]\n",
      "971                [assigned, fixingTimeFromAssignment]\n",
      "979                                        [fixVersion]\n",
      "983    [assigned, fixingTimeFromAssignment, fixVersion]\n",
      "985                [assigned, fixingTimeFromAssignment]\n",
      "991                [assigned, fixingTimeFromAssignment]\n",
      "995         [assigned, fixingTimeFromAssignment, files]\n",
      "dtype: object\n"
     ]
    }
   ],
   "source": [
    "# Obtenir les noms des colonnes qui ont des valeurs manquantes par ligne\n",
    "missing_column_names = df[df.isnull().any(axis=1)].apply(lambda row: row[row.isnull()].index.tolist(), axis=1)\n",
    "\n",
    "print(\"Colonnes avec des valeurs manquantes pour chaque ligne:\")\n",
    "print(missing_column_names)"
   ]
  },
  {
   "cell_type": "markdown",
   "id": "14bc41a1",
   "metadata": {},
   "source": [
    "# Savoir si l'Id est doublons"
   ]
  },
  {
   "cell_type": "code",
   "execution_count": 17,
   "id": "583e3785",
   "metadata": {},
   "outputs": [
    {
     "name": "stdout",
     "output_type": "stream",
     "text": [
      "Valeurs d'id dupliquées avec le nombre d'occurrences:\n",
      "Series([], Name: id, dtype: int64)\n"
     ]
    }
   ],
   "source": [
    "id_counts = df['id'].value_counts()\n",
    "\n",
    "duplicate_ids = id_counts[id_counts > 1]\n",
    "\n",
    "print(\"Valeurs d'id dupliquées avec le nombre d'occurrences:\")\n",
    "print(duplicate_ids)"
   ]
  },
  {
   "cell_type": "code",
   "execution_count": 18,
   "id": "ca755b33",
   "metadata": {},
   "outputs": [],
   "source": [
    "#unique_values = df['type'].unique()\n",
    "#print(\"Valeurs uniques dans type:\")\n",
    "#print(unique_values)\n",
    "\n",
    "#unique_values = df['status'].unique()\n",
    "#print(\"Valeurs uniques dans status:\")\n",
    "#print(unique_values)\n",
    "\n",
    "#unique_values = df['priority'].unique()\n",
    "#print(\"Valeurs uniques dans priority':\")\n",
    "#print(unique_values)\n",
    "\n",
    "#unique_values = df['resolution'].unique()\n",
    "#print(\"Valeurs uniques dans resolution':\")\n",
    "#print(unique_values)\n",
    "\n",
    "#unique_values = df['component'].unique()\n",
    "#print(\"Valeurs uniques dans component':\")\n",
    "#print(unique_values)\n"
   ]
  },
  {
   "cell_type": "markdown",
   "id": "bc5dd0e1",
   "metadata": {},
   "source": [
    "# Traitement des colonnes de Files"
   ]
  },
  {
   "cell_type": "code",
   "execution_count": 19,
   "id": "96252df9",
   "metadata": {},
   "outputs": [
    {
     "name": "stdout",
     "output_type": "stream",
     "text": [
      "DataFrame après avoir remplacé les valeurs manquantes par 0\n",
      "DataFrame après mise à jour:\n"
     ]
    }
   ],
   "source": [
    "df['files'].fillna('pas de fichier', inplace=True)\n",
    "\n",
    "# Mettre à jour 'file_count' en comptant les ';' \n",
    "df['file_count'] = df['files'].str.count(';')\n",
    "\n",
    "# Ajuster 'file_count' pour les cas de 'pas de fichier'\n",
    "df.loc[df['files'] == 'pas de fichier', 'file_count'] = 0\n",
    "\n",
    "df['nsec'].fillna(0, inplace=True)\n",
    "df['fsec'].fillna(0, inplace=True)\n",
    "\n",
    "print(\"DataFrame après avoir remplacé les valeurs manquantes par 0\")\n",
    "\n",
    "print(\"DataFrame après mise à jour:\")\n"
   ]
  },
  {
   "cell_type": "code",
   "execution_count": 20,
   "id": "eea739c2",
   "metadata": {},
   "outputs": [
    {
     "name": "stdout",
     "output_type": "stream",
     "text": [
      "Nombre de valeurs manquantes:\n",
      "id                           0\n",
      "type                         0\n",
      "status                       0\n",
      "resolution                   0\n",
      "component                   11\n",
      "priority                     0\n",
      "reporter                     0\n",
      "created                      0\n",
      "assigned                    29\n",
      "assignee                     0\n",
      "resolved                     0\n",
      "fixingTimeFromCreate         0\n",
      "fixingTimeFromAssignment    29\n",
      "summary                      0\n",
      "description                  0\n",
      "affectVersion                1\n",
      "fixVersion                   7\n",
      "votes                        0\n",
      "watches                      0\n",
      "description_words            0\n",
      "assingnee_count              0\n",
      "comment_count                0\n",
      "commentator_count            0\n",
      "Surprising                   0\n",
      "Dormant                      0\n",
      "Blocker                      0\n",
      "security                     0\n",
      "Performance                  0\n",
      "Breakage                     0\n",
      "commit_count                 0\n",
      "file_count                   0\n",
      "files                        0\n",
      "nsec                         0\n",
      "fsec                         0\n",
      "dtype: int64\n"
     ]
    }
   ],
   "source": [
    "missing_counts = df.isnull().sum()\n",
    "\n",
    "print(\"Nombre de valeurs manquantes:\")\n",
    "print(missing_counts)"
   ]
  },
  {
   "cell_type": "code",
   "execution_count": null,
   "id": "c118619f",
   "metadata": {},
   "outputs": [],
   "source": []
  },
  {
   "cell_type": "markdown",
   "id": "0044b4d6",
   "metadata": {},
   "source": [
    "# Traitement de fixingTimeFromCreate"
   ]
  },
  {
   "cell_type": "code",
   "execution_count": 21,
   "id": "5818a460",
   "metadata": {},
   "outputs": [
    {
     "name": "stdout",
     "output_type": "stream",
     "text": [
      "DataFrame après traitement des valeurs manquantes dans 'assigned':\n"
     ]
    }
   ],
   "source": [
    "df['created'] = pd.to_datetime(df['created'])\n",
    "\n",
    "# Remplir 'assigned' si manquant\n",
    "# Assurez-vous que 'fixingTimeFromCreate' est en jours (float)\n",
    "df['assigned'] = df.apply(\n",
    "    lambda row: row['created'] + pd.to_timedelta(row['fixingTimeFromCreate'], unit='d')\n",
    "    if pd.isnull(row['assigned']) else pd.to_datetime(row['assigned']),\n",
    "    axis=1\n",
    ")\n",
    "\n",
    "print(\"DataFrame après traitement des valeurs manquantes dans 'assigned':\")\n"
   ]
  },
  {
   "cell_type": "code",
   "execution_count": 22,
   "id": "a7e44e2e",
   "metadata": {},
   "outputs": [
    {
     "name": "stdout",
     "output_type": "stream",
     "text": [
      "Nombre de valeurs manquantes:\n",
      "id                           0\n",
      "type                         0\n",
      "status                       0\n",
      "resolution                   0\n",
      "component                   11\n",
      "priority                     0\n",
      "reporter                     0\n",
      "created                      0\n",
      "assigned                     0\n",
      "assignee                     0\n",
      "resolved                     0\n",
      "fixingTimeFromCreate         0\n",
      "fixingTimeFromAssignment    29\n",
      "summary                      0\n",
      "description                  0\n",
      "affectVersion                1\n",
      "fixVersion                   7\n",
      "votes                        0\n",
      "watches                      0\n",
      "description_words            0\n",
      "assingnee_count              0\n",
      "comment_count                0\n",
      "commentator_count            0\n",
      "Surprising                   0\n",
      "Dormant                      0\n",
      "Blocker                      0\n",
      "security                     0\n",
      "Performance                  0\n",
      "Breakage                     0\n",
      "commit_count                 0\n",
      "file_count                   0\n",
      "files                        0\n",
      "nsec                         0\n",
      "fsec                         0\n",
      "dtype: int64\n"
     ]
    }
   ],
   "source": [
    "missing_counts = df.isnull().sum()\n",
    "\n",
    "print(\"Nombre de valeurs manquantes:\")\n",
    "print(missing_counts)"
   ]
  },
  {
   "cell_type": "markdown",
   "id": "0990c041",
   "metadata": {},
   "source": [
    "# Traitement de la colonne fixingTimeFromAssignment"
   ]
  },
  {
   "cell_type": "code",
   "execution_count": 23,
   "id": "0e8ca336",
   "metadata": {},
   "outputs": [
    {
     "name": "stdout",
     "output_type": "stream",
     "text": [
      "DataFrame après calcul de 'fixingTimeFromAssignment':\n"
     ]
    }
   ],
   "source": [
    "# Convertir 'resolved' et 'assigned' en datetime\n",
    "df['resolved'] = pd.to_datetime(df['resolved'])\n",
    "df['assigned'] = pd.to_datetime(df['assigned'])\n",
    "df['fixingTimeFromAssignment'] = (df['resolved'] - df['assigned']).dt.total_seconds() / 86400\n",
    "\n",
    "df['reporter'].fillna('Inconnu', inplace=True)\n",
    "\n",
    "print(\"DataFrame après calcul de 'fixingTimeFromAssignment':\")"
   ]
  },
  {
   "cell_type": "code",
   "execution_count": 24,
   "id": "60dd3311",
   "metadata": {},
   "outputs": [
    {
     "name": "stdout",
     "output_type": "stream",
     "text": [
      "Nombre de valeurs manquantes:\n",
      "id                           0\n",
      "type                         0\n",
      "status                       0\n",
      "resolution                   0\n",
      "component                   11\n",
      "priority                     0\n",
      "reporter                     0\n",
      "created                      0\n",
      "assigned                     0\n",
      "assignee                     0\n",
      "resolved                     0\n",
      "fixingTimeFromCreate         0\n",
      "fixingTimeFromAssignment     0\n",
      "summary                      0\n",
      "description                  0\n",
      "affectVersion                1\n",
      "fixVersion                   7\n",
      "votes                        0\n",
      "watches                      0\n",
      "description_words            0\n",
      "assingnee_count              0\n",
      "comment_count                0\n",
      "commentator_count            0\n",
      "Surprising                   0\n",
      "Dormant                      0\n",
      "Blocker                      0\n",
      "security                     0\n",
      "Performance                  0\n",
      "Breakage                     0\n",
      "commit_count                 0\n",
      "file_count                   0\n",
      "files                        0\n",
      "nsec                         0\n",
      "fsec                         0\n",
      "dtype: int64\n"
     ]
    }
   ],
   "source": [
    "missing_counts = df.isnull().sum()\n",
    "\n",
    "print(\"Nombre de valeurs manquantes:\")\n",
    "print(missing_counts)"
   ]
  },
  {
   "cell_type": "code",
   "execution_count": 25,
   "id": "c93dd1d2",
   "metadata": {},
   "outputs": [
    {
     "data": {
      "image/png": "[encoded data removed]",
      "text/plain": [
       "<Figure size 720x432 with 1 Axes>"
      ]
     },
     "metadata": {
      "needs_background": "light"
     },
     "output_type": "display_data"
    }
   ],
   "source": [
    "missing_counts = df.isnull().sum()\n",
    "\n",
    "# Créer un histogramme pour les valeurs manquantes\n",
    "plt.figure(figsize=(10, 6))\n",
    "missing_counts.plot(kind='bar', color='lightblue')\n",
    "plt.title('Nombre de valeurs manquantes par colonne')\n",
    "plt.xlabel('Colonnes')\n",
    "plt.ylabel('Nombre de valeurs manquantes')\n",
    "plt.show()"
   ]
  },
  {
   "cell_type": "code",
   "execution_count": null,
   "id": "29b99b1c",
   "metadata": {},
   "outputs": [],
   "source": []
  },
  {
   "cell_type": "markdown",
   "id": "b0e72ec6",
   "metadata": {},
   "source": [
    "# Remplir les component"
   ]
  },
  {
   "cell_type": "code",
   "execution_count": 26,
   "id": "f13dc18d",
   "metadata": {},
   "outputs": [
    {
     "data": {
      "text/plain": [
       "Text(0, 0.5, 'Nombre de valeurs manquantes')"
      ]
     },
     "execution_count": 26,
     "metadata": {},
     "output_type": "execute_result"
    },
    {
     "data": {
      "image/png": "[encoded data removed]",
      "text/plain": [
       "<Figure size 720x432 with 1 Axes>"
      ]
     },
     "metadata": {
      "needs_background": "light"
     },
     "output_type": "display_data"
    }
   ],
   "source": [
    "df['component'].fillna('non définie', inplace=True)\n",
    "missing_counts = df.isnull().sum()\n",
    "# Créer un histogramme pour les valeurs manquantes\n",
    "plt.figure(figsize=(10, 6))\n",
    "missing_counts.plot(kind='bar', color='purple')\n",
    "plt.title('Nombre de valeurs manquantes par colonne')\n",
    "plt.xlabel('Colonnes')\n",
    "plt.ylabel('Nombre de valeurs manquantes')"
   ]
  },
  {
   "cell_type": "code",
   "execution_count": null,
   "id": "62dcc79f",
   "metadata": {},
   "outputs": [],
   "source": []
  }
 ],
 "metadata": {
  "kernelspec": {
   "display_name": "Python 3 (ipykernel)",
   "language": "python",
   "name": "python3"
  },
  "language_info": {
   "codemirror_mode": {
    "name": "ipython",
    "version": 3
   },
   "file_extension": ".py",
   "mimetype": "text/x-python",
   "name": "python",
   "nbconvert_exporter": "python",
   "pygments_lexer": "ipython3",
   "version": "3.11.5"
  }
 },
 "nbformat": 4,
 "nbformat_minor": 5
}
